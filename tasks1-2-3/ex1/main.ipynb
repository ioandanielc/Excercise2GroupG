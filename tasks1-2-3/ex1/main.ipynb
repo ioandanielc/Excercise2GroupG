{
 "cells": [
  {
   "cell_type": "code",
   "execution_count": null,
   "metadata": {
    "ExecuteTime": {
     "start_time": "2023-04-25T19:58:18.150052Z",
     "end_time": "2023-04-25T19:58:20.585856Z"
    }
   },
   "outputs": [],
   "source": [
    "%load_ext autoreload\n",
    "%autoreload 2"
   ]
  },
  {
   "cell_type": "code",
   "execution_count": null,
   "metadata": {
    "ExecuteTime": {
     "start_time": "2023-04-25T19:58:20.546607Z",
     "end_time": "2023-04-25T19:58:20.616705Z"
    }
   },
   "outputs": [],
   "source": [
    "from matplotlib import rc\n",
    "\n",
    "from ex1.visualizer import run_scenario\n",
    "\n",
    "rc('animation', html='jshtml')\n",
    "%matplotlib inline"
   ]
  },
  {
   "cell_type": "code",
   "execution_count": null,
   "metadata": {
    "ExecuteTime": {
     "start_time": "2023-04-26T18:36:16.145520Z",
     "end_time": "2023-04-26T18:36:18.707807Z"
    }
   },
   "outputs": [],
   "source": [
    "run_scenario('scenarios/scenario_task_2.json', dijkstra=False, time_cap=25).get_anim()"
   ]
  },
  {
   "cell_type": "code",
   "execution_count": null,
   "metadata": {
    "ExecuteTime": {
     "start_time": "2023-04-25T19:58:21.993624Z",
     "end_time": "2023-04-25T19:58:25.694306Z"
    },
    "scrolled": true
   },
   "outputs": [],
   "source": [
    "run_scenario('scenarios/scenario_task_3.json', dijkstra=False).get_anim()"
   ]
  },
  {
   "cell_type": "code",
   "execution_count": null,
   "metadata": {
    "ExecuteTime": {
     "start_time": "2023-04-25T19:58:25.686170Z",
     "end_time": "2023-04-25T19:58:32.259135Z"
    }
   },
   "outputs": [],
   "source": [
    "run_scenario('scenarios/scenario_task_4_1.json', dijkstra=False).get_anim()"
   ]
  },
  {
   "cell_type": "code",
   "execution_count": null,
   "metadata": {
    "ExecuteTime": {
     "start_time": "2023-04-25T19:58:32.258828Z",
     "end_time": "2023-04-25T19:58:41.995399Z"
    }
   },
   "outputs": [],
   "source": [
    "run_scenario('scenarios/scenario_task_4_1.json', dijkstra=True).get_anim()"
   ]
  },
  {
   "cell_type": "code",
   "execution_count": null,
   "outputs": [],
   "source": [
    "run_scenario('scenarios/scenario_task_4_2.json', dijkstra=False, time_cap=30).get_anim()\n"
   ],
   "metadata": {
    "collapsed": false,
    "ExecuteTime": {
     "start_time": "2023-04-25T19:58:41.995923Z",
     "end_time": "2023-04-25T19:58:45.170788Z"
    }
   }
  },
  {
   "cell_type": "code",
   "execution_count": null,
   "outputs": [],
   "source": [
    "run_scenario('scenarios/scenario_task_4_2.json', dijkstra=True).get_anim()\n"
   ],
   "metadata": {
    "collapsed": false,
    "ExecuteTime": {
     "start_time": "2023-04-25T19:58:45.172772Z",
     "end_time": "2023-04-25T19:58:48.156350Z"
    }
   }
  },
  {
   "cell_type": "markdown",
   "source": [
    "# Rimea\n"
   ],
   "metadata": {
    "collapsed": false
   }
  },
  {
   "cell_type": "code",
   "execution_count": null,
   "outputs": [],
   "source": [
    "run_scenario('scenarios/scenario_task_5_1.json', dijkstra=True).get_anim()"
   ],
   "metadata": {
    "collapsed": false,
    "ExecuteTime": {
     "start_time": "2023-04-25T20:00:20.333886Z",
     "end_time": "2023-04-25T20:00:29.766238Z"
    }
   }
  },
  {
   "cell_type": "code",
   "execution_count": null,
   "outputs": [],
   "source": [
    "run_scenario('scenarios/scenario_task_5_2_s.json', dijkstra=True).get_anim()"
   ],
   "metadata": {
    "collapsed": false,
    "ExecuteTime": {
     "start_time": "2023-04-25T19:58:55.256981Z",
     "end_time": "2023-04-25T19:59:07.472005Z"
    }
   }
  },
  {
   "cell_type": "code",
   "execution_count": null,
   "outputs": [],
   "source": [
    "run_scenario('scenarios/scenario_task_5_2_m.json', dijkstra=True).get_anim()"
   ],
   "metadata": {
    "collapsed": false,
    "ExecuteTime": {
     "start_time": "2023-04-25T19:59:07.471648Z",
     "end_time": "2023-04-25T19:59:20.787937Z"
    }
   }
  },
  {
   "cell_type": "code",
   "execution_count": null,
   "outputs": [],
   "source": [
    "run_scenario('scenarios/scenario_task_5_2_l.json', dijkstra=True).get_anim()"
   ],
   "metadata": {
    "collapsed": false,
    "ExecuteTime": {
     "start_time": "2023-04-25T19:59:20.788556Z",
     "end_time": "2023-04-25T19:59:36.069141Z"
    }
   }
  },
  {
   "cell_type": "code",
   "execution_count": null,
   "outputs": [],
   "source": [
    "run_scenario('scenarios/scenario_task_5_2_xl.json', dijkstra=True).get_anim()"
   ],
   "metadata": {
    "collapsed": false,
    "ExecuteTime": {
     "start_time": "2023-04-25T19:59:36.068699Z",
     "end_time": "2023-04-25T19:59:59.207212Z"
    }
   }
  },
  {
   "cell_type": "code",
   "execution_count": null,
   "outputs": [],
   "source": [
    "run_scenario('scenarios/scenario_task_5_3.json', dijkstra=True).get_anim()"
   ],
   "metadata": {
    "collapsed": false,
    "ExecuteTime": {
     "start_time": "2023-04-25T20:01:43.010923Z",
     "end_time": "2023-04-25T20:01:47.213640Z"
    }
   }
  },
  {
   "cell_type": "code",
   "execution_count": null,
   "outputs": [],
   "source": [
    "run_scenario('scenarios/scenario_task_5_4.json', dijkstra=True, model_demographic_speed=True).get_anim()\n"
   ],
   "metadata": {
    "collapsed": false,
    "ExecuteTime": {
     "start_time": "2023-04-25T20:00:04.107315Z",
     "end_time": "2023-04-25T20:00:22.518421Z"
    }
   }
  }
 ],
 "metadata": {
  "kernelspec": {
   "display_name": "Python 3 (ipykernel)",
   "language": "python",
   "name": "python3"
  },
  "language_info": {
   "codemirror_mode": {
    "name": "ipython",
    "version": 3
   },
   "file_extension": ".py",
   "mimetype": "text/x-python",
   "name": "python",
   "nbconvert_exporter": "python",
   "pygments_lexer": "ipython3",
   "version": "3.8.10"
  }
 },
 "nbformat": 4,
 "nbformat_minor": 1
}
